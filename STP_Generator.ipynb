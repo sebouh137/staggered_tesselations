{
 "cells": [
  {
   "cell_type": "code",
   "execution_count": 11,
   "id": "96b9370a",
   "metadata": {},
   "outputs": [],
   "source": [
    "# requires csg2step and OpenSCAD\n",
    "# https://github.com/gega/csg2stp"
   ]
  },
  {
   "cell_type": "code",
   "execution_count": 12,
   "id": "3e0a7efe",
   "metadata": {},
   "outputs": [],
   "source": [
    "import numpy as np, pandas as pd, shapely\n",
    "import design_parameters as dp\n",
    "import os\n",
    "beampipe0=dp.beampipe0"
   ]
  },
  {
   "cell_type": "code",
   "execution_count": 13,
   "id": "c8a77bfb",
   "metadata": {},
   "outputs": [],
   "source": [
    "\n",
    "def mkdir(path):\n",
    "    # Check whether the specified path exists or not\n",
    "    isExist = os.path.exists(path)\n",
    "    if not isExist:\n",
    "       # Create a new directory because it does not exist\n",
    "       os.makedirs(path)\n",
    "mkdir(\"csg\")\n",
    "mkdir(\"openscad\")"
   ]
  },
  {
   "cell_type": "code",
   "execution_count": null,
   "id": "18898a0d",
   "metadata": {},
   "outputs": [],
   "source": []
  },
  {
   "cell_type": "code",
   "execution_count": 14,
   "id": "733da6fe",
   "metadata": {},
   "outputs": [
    {
     "name": "stdout",
     "output_type": "stream",
     "text": [
      "2.1\n"
     ]
    }
   ],
   "source": [
    "class Component():\n",
    "    def __init__(self,z_offset, thickness, name):\n",
    "        self.z_offset=z_offset\n",
    "        self.thickness=thickness\n",
    "        self.name=name\n",
    "z=0\n",
    "components={}\n",
    "for name, thickness in [(\"absorber\", 1.61), (\"airgap1\", 0.02),(\"cover\", 0.04),                     \n",
    "                        (\"foil1\", 0.015),(\"scint\", 0.3), (\"foil2\", 0.015), (\"pcb\", 0.08), \n",
    "                        (\"airgap2\", 0.02)]:\n",
    "    components[name]=Component(z, thickness, name)\n",
    "    z+=thickness\n",
    "print(z)"
   ]
  },
  {
   "cell_type": "code",
   "execution_count": 15,
   "id": "ba9887cc",
   "metadata": {},
   "outputs": [],
   "source": [
    "#first create the generic layers:\n",
    "cm=10\n",
    "det_height=dp.det_height\n",
    "det_width=dp.det_width\n",
    "det_gap=dp.det_gap\n",
    "for compname in \"absorber cover foil1 foil2 pcb\".split():\n",
    "    comp = components[compname]\n",
    "    scad_file=f\"openscad/all_layers_{compname}.scad\"\n",
    "    csg_file=f\"all_layers_{compname}.csg\"\n",
    "    with open(scad_file, \"w\") as f:\n",
    "        print(\"include <generic_layer.scad>\",file=f)\n",
    "        \n",
    "        print(\"union(){\", file=f)\n",
    "        for layer in range(54):\n",
    "            z=beampipe0.getZ(layer)+comp.z_offset\n",
    "            holeR=beampipe0.holeR(layer)\n",
    "            holeX=beampipe0.holeX(layer)\n",
    "            thickness=comp.thickness\n",
    "            print(f\"generic_layer({z*cm}, {holeX*cm}, {holeR*cm}, {thickness*cm}, det_height={det_height*cm},\"+ \\\n",
    "                  f\"det_width={det_width*cm}, det_gap={det_gap*cm});\", file=f)\n",
    "            \n",
    "        print(\"}\", file=f)\n",
    "    os.system(f'OpenSCAD  -o {csg_file} {scad_file}') \n",
    "    \n",
    "    #os.system(f'mv {csg_file} csg/{csg_file}')    \n",
    "    \n",
    "        \n",
    "    "
   ]
  },
  {
   "cell_type": "code",
   "execution_count": 16,
   "id": "d547a59a",
   "metadata": {},
   "outputs": [],
   "source": [
    "\n",
    "\n",
    "#next create the scintillator cells (based on the database of all layers)\n",
    "#first read in the database of scintillator positions/shapes\n",
    "import pickle\n",
    "with open(\"all_layers.pkl\", \"rb\") as file:\n",
    "    all_layers=pickle.load(file)\n",
    "#print(all_layers)\n",
    "scad_file=\"openscad/all_layers_scint.scad\"\n",
    "with open(scad_file, \"w\") as f:\n",
    "    #print(\"include <scint_lib.scad>\",file=f)\n",
    "    for layer in range(54):\n",
    "        \n",
    "        for side in \"LR\":\n",
    "            print(f\"// begin layer {layer}, side {side}\", file=f)\n",
    "            df=all_layers[(layer, side)]\n",
    "            z=beampipe0.getZ(layer)+components['scint'].z_offset\n",
    "\n",
    "            thickness=components['scint'].thickness\n",
    "            for cell in range(len(df.scint_boundsx)):\n",
    "                if df.deadzone[cell]:\n",
    "                    continue\n",
    "                x,y=df.scint_boundsx[cell], df.scint_boundsy[cell]\n",
    "\n",
    "                xystr=\"[\" + (\", \".join(['[%.2f, %.2f]'%(x[i]*cm, y[i]*cm) for i in range(len(x))])) + \"]\"\n",
    "\n",
    "                #print(xstr)\n",
    "                command=f\"translate([0,0,{z*cm}]) linear_extrude({thickness*cm}) polygon(points={xystr});\"\n",
    "\n",
    "                print(command, file=f)\n",
    "            print(f\"// end layer {layer}, side {side}\", file=f)\n",
    "           \n",
    "    os.system(f'OpenSCAD  -o {csg_file} {scad_file}') \n"
   ]
  },
  {
   "cell_type": "code",
   "execution_count": null,
   "id": "83f80ce6",
   "metadata": {},
   "outputs": [],
   "source": []
  }
 ],
 "metadata": {
  "kernelspec": {
   "display_name": "Python 3 (ipykernel)",
   "language": "python",
   "name": "python3"
  },
  "language_info": {
   "codemirror_mode": {
    "name": "ipython",
    "version": 3
   },
   "file_extension": ".py",
   "mimetype": "text/x-python",
   "name": "python",
   "nbconvert_exporter": "python",
   "pygments_lexer": "ipython3",
   "version": "3.10.11"
  }
 },
 "nbformat": 4,
 "nbformat_minor": 5
}
